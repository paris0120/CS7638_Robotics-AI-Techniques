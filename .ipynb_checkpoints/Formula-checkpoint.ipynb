{
 "cells": [
  {
   "cell_type": "markdown",
   "id": "394c4ba4",
   "metadata": {},
   "source": [
    "1. Gaussian: $f(x) = {1\\over \\sqrt{2\\pi\\sigma^2}} e^{-1/2 {(x-\\mu)^2\\over \\sigma^2}}$\n",
    "1. Kalman Measurements: \n",
    "    1. $x_n = {x_{n-1}\\sigma_z^2+x_z\\sigma_{n-1}^2 \\over \\sigma_{n-1}^2 + \\sigma_z^2}$\n",
    "    1. $\\sigma_n^2 = {1\\over 1/\\sigma_{n-1}^2 + 1/\\sigma_z^2}$\n",
    "1. Kalman Update: \n",
    "    1. $x_n = x_{n-1} + x_z$\n",
    "    1. $\\sigma_n^2 = \\sigma_{n-1}^2 + \\sigma_z^2$"
   ]
  },
  {
   "cell_type": "code",
   "execution_count": null,
   "id": "bc83bac5",
   "metadata": {},
   "outputs": [],
   "source": []
  }
 ],
 "metadata": {
  "kernelspec": {
   "display_name": "Python 3 (ipykernel)",
   "language": "python",
   "name": "python3"
  },
  "language_info": {
   "codemirror_mode": {
    "name": "ipython",
    "version": 3
   },
   "file_extension": ".py",
   "mimetype": "text/x-python",
   "name": "python",
   "nbconvert_exporter": "python",
   "pygments_lexer": "ipython3",
   "version": "3.10.9"
  }
 },
 "nbformat": 4,
 "nbformat_minor": 5
}
